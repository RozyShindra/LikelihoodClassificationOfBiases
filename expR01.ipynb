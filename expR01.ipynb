{
 "cells": [
  {
   "cell_type": "code",
   "execution_count": 1,
   "metadata": {},
   "outputs": [],
   "source": [
    "import pandas as pd # use for data manipulation and analysis\n",
    "import numpy as np # use for multi-dimensional array and matrix\n",
    "\n",
    "import seaborn as sns # use for high-level interface for drawing attractive and informative statistical graphics \n",
    "import matplotlib.pyplot as plt # It provides an object-oriented API for embedding plots into applications\n",
    "%matplotlib inline \n",
    "# It sets the backend of matplotlib to the 'inline' backend:\n",
    "\n",
    "\n",
    "from sklearn.naive_bayes import MultinomialNB # nlp algo use to Positive , Negative comment\n",
    "\n",
    "from sklearn.model_selection import train_test_split # spliting the data between feature and target\n",
    "from sklearn.metrics import classification_report # gives whole report about metrics (e.g, recall,precision,f1_score,c_m)\n",
    "from sklearn.metrics import confusion_matrix # gives info about actual and predict\n",
    "from nltk.tokenize import RegexpTokenizer # regexp tokenizers use to split words from text  \n",
    "from nltk.stem.snowball import SnowballStemmer # stemmes words\n",
    "from sklearn.feature_extraction.text import CountVectorizer # create sparse matrix of words using regexptokenizes  \n",
    "from sklearn.pipeline import make_pipeline # use for combining all prerocessors techniuqes and algos\n",
    "\n",
    "from PIL import Image # getting images in notebook\n",
    "from wordcloud import WordCloud, STOPWORDS, ImageColorGenerator# creates words cloud\n",
    "\n",
    "\n",
    "import pickle# use to dump model \n",
    "\n",
    "import warnings # ignores pink warnings \n",
    "warnings.filterwarnings('ignore')"
   ]
  },
  {
   "cell_type": "code",
   "execution_count": 2,
   "metadata": {},
   "outputs": [
    {
     "data": {
      "text/plain": [
       "dict_keys(['train', 'validation', 'test'])"
      ]
     },
     "execution_count": 2,
     "metadata": {},
     "output_type": "execute_result"
    }
   ],
   "source": [
    "import datasets\n",
    "\n",
    "# Load the dataset\n",
    "dataset = datasets.load_dataset(\"md_gender_bias\" , \"image_chat\")\n",
    "dataset.keys()\n"
   ]
  },
  {
   "cell_type": "code",
   "execution_count": 3,
   "metadata": {},
   "outputs": [
    {
     "data": {
      "text/plain": [
       "Dataset({\n",
       "    features: ['caption', 'id', 'male', 'female'],\n",
       "    num_rows: 9997\n",
       "})"
      ]
     },
     "execution_count": 3,
     "metadata": {},
     "output_type": "execute_result"
    }
   ],
   "source": [
    "dataset['train']"
   ]
  },
  {
   "cell_type": "code",
   "execution_count": 4,
   "metadata": {},
   "outputs": [
    {
     "data": {
      "text/plain": [
       "Dataset({\n",
       "    features: ['caption', 'id', 'male', 'female'],\n",
       "    num_rows: 338180\n",
       "})"
      ]
     },
     "execution_count": 4,
     "metadata": {},
     "output_type": "execute_result"
    }
   ],
   "source": [
    "dataset['validation']"
   ]
  },
  {
   "cell_type": "code",
   "execution_count": 5,
   "metadata": {},
   "outputs": [
    {
     "data": {
      "text/html": [
       "<div>\n",
       "<style scoped>\n",
       "    .dataframe tbody tr th:only-of-type {\n",
       "        vertical-align: middle;\n",
       "    }\n",
       "\n",
       "    .dataframe tbody tr th {\n",
       "        vertical-align: top;\n",
       "    }\n",
       "\n",
       "    .dataframe thead th {\n",
       "        text-align: right;\n",
       "    }\n",
       "</style>\n",
       "<table border=\"1\" class=\"dataframe\">\n",
       "  <thead>\n",
       "    <tr style=\"text-align: right;\">\n",
       "      <th></th>\n",
       "      <th>caption</th>\n",
       "      <th>id</th>\n",
       "      <th>male</th>\n",
       "      <th>female</th>\n",
       "    </tr>\n",
       "  </thead>\n",
       "  <tbody>\n",
       "    <tr>\n",
       "      <th>0</th>\n",
       "      <td>&lt;start&gt; a group of people standing in the midd...</td>\n",
       "      <td>1e22a9cf867d718551386b427c3b6d18</td>\n",
       "      <td>False</td>\n",
       "      <td>False</td>\n",
       "    </tr>\n",
       "    <tr>\n",
       "      <th>1</th>\n",
       "      <td>&lt;start&gt; a group of people standing next to eac...</td>\n",
       "      <td>96472caea58db27769f1c282e2ac0</td>\n",
       "      <td>False</td>\n",
       "      <td>False</td>\n",
       "    </tr>\n",
       "    <tr>\n",
       "      <th>2</th>\n",
       "      <td>&lt;start&gt; a young boy holding a baseball bat on ...</td>\n",
       "      <td>f09d8fb76822158de129acb0fef463</td>\n",
       "      <td>True</td>\n",
       "      <td>False</td>\n",
       "    </tr>\n",
       "    <tr>\n",
       "      <th>3</th>\n",
       "      <td>&lt;start&gt; a group of people standing on top of a...</td>\n",
       "      <td>6e4ccc739ff44ed11da20ad9892317</td>\n",
       "      <td>False</td>\n",
       "      <td>False</td>\n",
       "    </tr>\n",
       "    <tr>\n",
       "      <th>4</th>\n",
       "      <td>&lt;start&gt; a group of people sitting in a living ...</td>\n",
       "      <td>e7e1844aa9e67cddc6ffe8804d76e45b</td>\n",
       "      <td>False</td>\n",
       "      <td>False</td>\n",
       "    </tr>\n",
       "  </tbody>\n",
       "</table>\n",
       "</div>"
      ],
      "text/plain": [
       "                                             caption  \\\n",
       "0  <start> a group of people standing in the midd...   \n",
       "1  <start> a group of people standing next to eac...   \n",
       "2  <start> a young boy holding a baseball bat on ...   \n",
       "3  <start> a group of people standing on top of a...   \n",
       "4  <start> a group of people sitting in a living ...   \n",
       "\n",
       "                                 id   male  female  \n",
       "0  1e22a9cf867d718551386b427c3b6d18  False   False  \n",
       "1     96472caea58db27769f1c282e2ac0  False   False  \n",
       "2    f09d8fb76822158de129acb0fef463   True   False  \n",
       "3    6e4ccc739ff44ed11da20ad9892317  False   False  \n",
       "4  e7e1844aa9e67cddc6ffe8804d76e45b  False   False  "
      ]
     },
     "execution_count": 5,
     "metadata": {},
     "output_type": "execute_result"
    }
   ],
   "source": [
    "# Prepare data\n",
    "data = pd.DataFrame(dataset[\"validation\"])\n",
    "data.head()"
   ]
  },
  {
   "cell_type": "code",
   "execution_count": 6,
   "metadata": {},
   "outputs": [
    {
     "data": {
      "text/html": [
       "<div>\n",
       "<style scoped>\n",
       "    .dataframe tbody tr th:only-of-type {\n",
       "        vertical-align: middle;\n",
       "    }\n",
       "\n",
       "    .dataframe tbody tr th {\n",
       "        vertical-align: top;\n",
       "    }\n",
       "\n",
       "    .dataframe thead th {\n",
       "        text-align: right;\n",
       "    }\n",
       "</style>\n",
       "<table border=\"1\" class=\"dataframe\">\n",
       "  <thead>\n",
       "    <tr style=\"text-align: right;\">\n",
       "      <th></th>\n",
       "      <th>caption</th>\n",
       "      <th>id</th>\n",
       "      <th>male</th>\n",
       "      <th>female</th>\n",
       "    </tr>\n",
       "  </thead>\n",
       "  <tbody>\n",
       "    <tr>\n",
       "      <th>338170</th>\n",
       "      <td>&lt;start&gt; a car driving down a street next to a ...</td>\n",
       "      <td>aa9b5d71149bc22a24c7fffbd35abf</td>\n",
       "      <td>False</td>\n",
       "      <td>False</td>\n",
       "    </tr>\n",
       "    <tr>\n",
       "      <th>338171</th>\n",
       "      <td>&lt;start&gt; a close up of a laptop on a wooden tab...</td>\n",
       "      <td>1e344ffcc5a84d53af8447f23581320</td>\n",
       "      <td>False</td>\n",
       "      <td>False</td>\n",
       "    </tr>\n",
       "    <tr>\n",
       "      <th>338172</th>\n",
       "      <td>&lt;start&gt; a group of young men standing next to ...</td>\n",
       "      <td>6ce5d94d269c67231bd44ead56c8299</td>\n",
       "      <td>True</td>\n",
       "      <td>False</td>\n",
       "    </tr>\n",
       "    <tr>\n",
       "      <th>338173</th>\n",
       "      <td>&lt;start&gt; a small child is holding a baby in her...</td>\n",
       "      <td>55cc84f1d6eb60d2a7c550e5b785d6</td>\n",
       "      <td>False</td>\n",
       "      <td>True</td>\n",
       "    </tr>\n",
       "    <tr>\n",
       "      <th>338174</th>\n",
       "      <td>&lt;start&gt; a close up view of a green plant in a ...</td>\n",
       "      <td>cad747dca2b4db4afc64def367be881</td>\n",
       "      <td>False</td>\n",
       "      <td>False</td>\n",
       "    </tr>\n",
       "    <tr>\n",
       "      <th>338175</th>\n",
       "      <td>&lt;start&gt; a man is sitting at a table with a lap...</td>\n",
       "      <td>84fb250c718f7ca23c0352cabd54e2</td>\n",
       "      <td>True</td>\n",
       "      <td>False</td>\n",
       "    </tr>\n",
       "    <tr>\n",
       "      <th>338176</th>\n",
       "      <td>&lt;start&gt; a glass of red liquid sitting on top o...</td>\n",
       "      <td>5c9e2843de57e598625a10a3288242b5</td>\n",
       "      <td>False</td>\n",
       "      <td>False</td>\n",
       "    </tr>\n",
       "    <tr>\n",
       "      <th>338177</th>\n",
       "      <td>&lt;start&gt; a group of people walking down a stree...</td>\n",
       "      <td>ba2b223f2f3a0611776c6d9fec2961</td>\n",
       "      <td>False</td>\n",
       "      <td>False</td>\n",
       "    </tr>\n",
       "    <tr>\n",
       "      <th>338178</th>\n",
       "      <td>&lt;start&gt; a large brick building with a clock on...</td>\n",
       "      <td>c9c3f8574d8cf3711b1d351c0ffadb</td>\n",
       "      <td>False</td>\n",
       "      <td>False</td>\n",
       "    </tr>\n",
       "    <tr>\n",
       "      <th>338179</th>\n",
       "      <td>&lt;start&gt; a close up of a car on the ground next...</td>\n",
       "      <td>965eddcc8889c48c352f18d305a733</td>\n",
       "      <td>False</td>\n",
       "      <td>False</td>\n",
       "    </tr>\n",
       "  </tbody>\n",
       "</table>\n",
       "</div>"
      ],
      "text/plain": [
       "                                                  caption  \\\n",
       "338170  <start> a car driving down a street next to a ...   \n",
       "338171  <start> a close up of a laptop on a wooden tab...   \n",
       "338172  <start> a group of young men standing next to ...   \n",
       "338173  <start> a small child is holding a baby in her...   \n",
       "338174  <start> a close up view of a green plant in a ...   \n",
       "338175  <start> a man is sitting at a table with a lap...   \n",
       "338176  <start> a glass of red liquid sitting on top o...   \n",
       "338177  <start> a group of people walking down a stree...   \n",
       "338178  <start> a large brick building with a clock on...   \n",
       "338179  <start> a close up of a car on the ground next...   \n",
       "\n",
       "                                      id   male  female  \n",
       "338170    aa9b5d71149bc22a24c7fffbd35abf  False   False  \n",
       "338171   1e344ffcc5a84d53af8447f23581320  False   False  \n",
       "338172   6ce5d94d269c67231bd44ead56c8299   True   False  \n",
       "338173    55cc84f1d6eb60d2a7c550e5b785d6  False    True  \n",
       "338174   cad747dca2b4db4afc64def367be881  False   False  \n",
       "338175    84fb250c718f7ca23c0352cabd54e2   True   False  \n",
       "338176  5c9e2843de57e598625a10a3288242b5  False   False  \n",
       "338177    ba2b223f2f3a0611776c6d9fec2961  False   False  \n",
       "338178    c9c3f8574d8cf3711b1d351c0ffadb  False   False  \n",
       "338179    965eddcc8889c48c352f18d305a733  False   False  "
      ]
     },
     "execution_count": 6,
     "metadata": {},
     "output_type": "execute_result"
    }
   ],
   "source": [
    "data.tail(10)\n"
   ]
  },
  {
   "cell_type": "code",
   "execution_count": 7,
   "metadata": {},
   "outputs": [
    {
     "data": {
      "text/html": [
       "<div>\n",
       "<style scoped>\n",
       "    .dataframe tbody tr th:only-of-type {\n",
       "        vertical-align: middle;\n",
       "    }\n",
       "\n",
       "    .dataframe tbody tr th {\n",
       "        vertical-align: top;\n",
       "    }\n",
       "\n",
       "    .dataframe thead th {\n",
       "        text-align: right;\n",
       "    }\n",
       "</style>\n",
       "<table border=\"1\" class=\"dataframe\">\n",
       "  <thead>\n",
       "    <tr style=\"text-align: right;\">\n",
       "      <th></th>\n",
       "      <th>caption</th>\n",
       "      <th>male</th>\n",
       "      <th>female</th>\n",
       "    </tr>\n",
       "  </thead>\n",
       "  <tbody>\n",
       "    <tr>\n",
       "      <th>0</th>\n",
       "      <td>&lt;start&gt; a group of people standing in the midd...</td>\n",
       "      <td>False</td>\n",
       "      <td>False</td>\n",
       "    </tr>\n",
       "    <tr>\n",
       "      <th>1</th>\n",
       "      <td>&lt;start&gt; a group of people standing next to eac...</td>\n",
       "      <td>False</td>\n",
       "      <td>False</td>\n",
       "    </tr>\n",
       "    <tr>\n",
       "      <th>2</th>\n",
       "      <td>&lt;start&gt; a young boy holding a baseball bat on ...</td>\n",
       "      <td>True</td>\n",
       "      <td>False</td>\n",
       "    </tr>\n",
       "    <tr>\n",
       "      <th>3</th>\n",
       "      <td>&lt;start&gt; a group of people standing on top of a...</td>\n",
       "      <td>False</td>\n",
       "      <td>False</td>\n",
       "    </tr>\n",
       "    <tr>\n",
       "      <th>4</th>\n",
       "      <td>&lt;start&gt; a group of people sitting in a living ...</td>\n",
       "      <td>False</td>\n",
       "      <td>False</td>\n",
       "    </tr>\n",
       "  </tbody>\n",
       "</table>\n",
       "</div>"
      ],
      "text/plain": [
       "                                             caption   male  female\n",
       "0  <start> a group of people standing in the midd...  False   False\n",
       "1  <start> a group of people standing next to eac...  False   False\n",
       "2  <start> a young boy holding a baseball bat on ...   True   False\n",
       "3  <start> a group of people standing on top of a...  False   False\n",
       "4  <start> a group of people sitting in a living ...  False   False"
      ]
     },
     "execution_count": 7,
     "metadata": {},
     "output_type": "execute_result"
    }
   ],
   "source": [
    "data = data[['caption', 'male', 'female']]\n",
    "\n",
    "data.head()"
   ]
  },
  {
   "cell_type": "code",
   "execution_count": 8,
   "metadata": {},
   "outputs": [],
   "source": [
    "# mask = (data['male']==True) | (data['female']== True)\n",
    "# unwanted_rows = data[~mask]\n",
    "# data = data.drop(unwanted_rows.index)\n",
    "# data"
   ]
  },
  {
   "cell_type": "code",
   "execution_count": 9,
   "metadata": {},
   "outputs": [
    {
     "data": {
      "text/html": [
       "<div>\n",
       "<style scoped>\n",
       "    .dataframe tbody tr th:only-of-type {\n",
       "        vertical-align: middle;\n",
       "    }\n",
       "\n",
       "    .dataframe tbody tr th {\n",
       "        vertical-align: top;\n",
       "    }\n",
       "\n",
       "    .dataframe thead th {\n",
       "        text-align: right;\n",
       "    }\n",
       "</style>\n",
       "<table border=\"1\" class=\"dataframe\">\n",
       "  <thead>\n",
       "    <tr style=\"text-align: right;\">\n",
       "      <th></th>\n",
       "      <th>caption</th>\n",
       "      <th>male</th>\n",
       "      <th>female</th>\n",
       "      <th>label</th>\n",
       "    </tr>\n",
       "  </thead>\n",
       "  <tbody>\n",
       "    <tr>\n",
       "      <th>0</th>\n",
       "      <td>&lt;start&gt; a group of people standing in the midd...</td>\n",
       "      <td>False</td>\n",
       "      <td>False</td>\n",
       "      <td>neutral</td>\n",
       "    </tr>\n",
       "    <tr>\n",
       "      <th>1</th>\n",
       "      <td>&lt;start&gt; a group of people standing next to eac...</td>\n",
       "      <td>False</td>\n",
       "      <td>False</td>\n",
       "      <td>neutral</td>\n",
       "    </tr>\n",
       "    <tr>\n",
       "      <th>2</th>\n",
       "      <td>&lt;start&gt; a young boy holding a baseball bat on ...</td>\n",
       "      <td>True</td>\n",
       "      <td>False</td>\n",
       "      <td>neutral</td>\n",
       "    </tr>\n",
       "    <tr>\n",
       "      <th>3</th>\n",
       "      <td>&lt;start&gt; a group of people standing on top of a...</td>\n",
       "      <td>False</td>\n",
       "      <td>False</td>\n",
       "      <td>neutral</td>\n",
       "    </tr>\n",
       "    <tr>\n",
       "      <th>4</th>\n",
       "      <td>&lt;start&gt; a group of people sitting in a living ...</td>\n",
       "      <td>False</td>\n",
       "      <td>False</td>\n",
       "      <td>neutral</td>\n",
       "    </tr>\n",
       "  </tbody>\n",
       "</table>\n",
       "</div>"
      ],
      "text/plain": [
       "                                             caption   male  female    label\n",
       "0  <start> a group of people standing in the midd...  False   False  neutral\n",
       "1  <start> a group of people standing next to eac...  False   False  neutral\n",
       "2  <start> a young boy holding a baseball bat on ...   True   False  neutral\n",
       "3  <start> a group of people standing on top of a...  False   False  neutral\n",
       "4  <start> a group of people sitting in a living ...  False   False  neutral"
      ]
     },
     "execution_count": 9,
     "metadata": {},
     "output_type": "execute_result"
    }
   ],
   "source": [
    "data[\"label\"]=[\"neutral\" for i in range(0,len(data))]\n",
    "\n",
    "data.head()"
   ]
  },
  {
   "cell_type": "code",
   "execution_count": 10,
   "metadata": {},
   "outputs": [],
   "source": [
    "# Use numpy.select to set the 'label' column based on conditions\n",
    "conditions = [\n",
    "    (data['female'] == False) & (data['male'] == False),\n",
    "    (data['male'] == True) & (data['female'] == False),\n",
    "    (data['female'] == True) & (data['male'] == False),\n",
    "    (data['female'] == True) & (data['male'] == True),\n",
    "]\n",
    "choices = ['Bot', 'Male', 'Female', 'Neutral']\n",
    "\n",
    "# Default to 'Neutral' for other cases\n",
    "data['label'] = np.select(conditions, choices, )"
   ]
  },
  {
   "cell_type": "code",
   "execution_count": 11,
   "metadata": {},
   "outputs": [
    {
     "data": {
      "text/html": [
       "<div>\n",
       "<style scoped>\n",
       "    .dataframe tbody tr th:only-of-type {\n",
       "        vertical-align: middle;\n",
       "    }\n",
       "\n",
       "    .dataframe tbody tr th {\n",
       "        vertical-align: top;\n",
       "    }\n",
       "\n",
       "    .dataframe thead th {\n",
       "        text-align: right;\n",
       "    }\n",
       "</style>\n",
       "<table border=\"1\" class=\"dataframe\">\n",
       "  <thead>\n",
       "    <tr style=\"text-align: right;\">\n",
       "      <th></th>\n",
       "      <th>caption</th>\n",
       "      <th>male</th>\n",
       "      <th>female</th>\n",
       "      <th>label</th>\n",
       "    </tr>\n",
       "  </thead>\n",
       "  <tbody>\n",
       "    <tr>\n",
       "      <th>0</th>\n",
       "      <td>&lt;start&gt; a group of people standing in the midd...</td>\n",
       "      <td>False</td>\n",
       "      <td>False</td>\n",
       "      <td>Bot</td>\n",
       "    </tr>\n",
       "    <tr>\n",
       "      <th>1</th>\n",
       "      <td>&lt;start&gt; a group of people standing next to eac...</td>\n",
       "      <td>False</td>\n",
       "      <td>False</td>\n",
       "      <td>Bot</td>\n",
       "    </tr>\n",
       "    <tr>\n",
       "      <th>2</th>\n",
       "      <td>&lt;start&gt; a young boy holding a baseball bat on ...</td>\n",
       "      <td>True</td>\n",
       "      <td>False</td>\n",
       "      <td>Male</td>\n",
       "    </tr>\n",
       "    <tr>\n",
       "      <th>3</th>\n",
       "      <td>&lt;start&gt; a group of people standing on top of a...</td>\n",
       "      <td>False</td>\n",
       "      <td>False</td>\n",
       "      <td>Bot</td>\n",
       "    </tr>\n",
       "    <tr>\n",
       "      <th>4</th>\n",
       "      <td>&lt;start&gt; a group of people sitting in a living ...</td>\n",
       "      <td>False</td>\n",
       "      <td>False</td>\n",
       "      <td>Bot</td>\n",
       "    </tr>\n",
       "  </tbody>\n",
       "</table>\n",
       "</div>"
      ],
      "text/plain": [
       "                                             caption   male  female label\n",
       "0  <start> a group of people standing in the midd...  False   False   Bot\n",
       "1  <start> a group of people standing next to eac...  False   False   Bot\n",
       "2  <start> a young boy holding a baseball bat on ...   True   False  Male\n",
       "3  <start> a group of people standing on top of a...  False   False   Bot\n",
       "4  <start> a group of people sitting in a living ...  False   False   Bot"
      ]
     },
     "execution_count": 11,
     "metadata": {},
     "output_type": "execute_result"
    }
   ],
   "source": [
    "data.head()"
   ]
  },
  {
   "cell_type": "code",
   "execution_count": 12,
   "metadata": {},
   "outputs": [
    {
     "name": "stdout",
     "output_type": "stream",
     "text": [
      "label\n",
      "Bot        245075\n",
      "Male        62512\n",
      "Female      22321\n",
      "Neutral      8272\n",
      "Name: count, dtype: int64\n"
     ]
    }
   ],
   "source": [
    "\n",
    "label_counts = data['label'].value_counts()\n",
    "print(label_counts)"
   ]
  },
  {
   "cell_type": "code",
   "execution_count": 13,
   "metadata": {},
   "outputs": [
    {
     "data": {
      "text/plain": [
       "caption    0\n",
       "male       0\n",
       "female     0\n",
       "label      0\n",
       "dtype: int64"
      ]
     },
     "execution_count": 13,
     "metadata": {},
     "output_type": "execute_result"
    }
   ],
   "source": [
    "data.isnull().sum()"
   ]
  },
  {
   "cell_type": "code",
   "execution_count": 14,
   "metadata": {},
   "outputs": [
    {
     "data": {
      "text/html": [
       "<div>\n",
       "<style scoped>\n",
       "    .dataframe tbody tr th:only-of-type {\n",
       "        vertical-align: middle;\n",
       "    }\n",
       "\n",
       "    .dataframe tbody tr th {\n",
       "        vertical-align: top;\n",
       "    }\n",
       "\n",
       "    .dataframe thead th {\n",
       "        text-align: right;\n",
       "    }\n",
       "</style>\n",
       "<table border=\"1\" class=\"dataframe\">\n",
       "  <thead>\n",
       "    <tr style=\"text-align: right;\">\n",
       "      <th></th>\n",
       "      <th>count</th>\n",
       "    </tr>\n",
       "    <tr>\n",
       "      <th>caption</th>\n",
       "      <th></th>\n",
       "    </tr>\n",
       "  </thead>\n",
       "  <tbody>\n",
       "    <tr>\n",
       "      <th>&lt;start&gt; a group of people standing next to each other in a room &lt;eos&gt;</th>\n",
       "      <td>2661</td>\n",
       "    </tr>\n",
       "    <tr>\n",
       "      <th>&lt;start&gt; a large building with a clock on top of it &lt;eos&gt;</th>\n",
       "      <td>1933</td>\n",
       "    </tr>\n",
       "    <tr>\n",
       "      <th>&lt;start&gt; a group of people standing on top of a lush green field &lt;eos&gt;</th>\n",
       "      <td>1826</td>\n",
       "    </tr>\n",
       "    <tr>\n",
       "      <th>&lt;start&gt; a group of young men playing a game of soccer &lt;eos&gt;</th>\n",
       "      <td>1760</td>\n",
       "    </tr>\n",
       "    <tr>\n",
       "      <th>&lt;start&gt; a large building with a clock on the side of it &lt;eos&gt;</th>\n",
       "      <td>1518</td>\n",
       "    </tr>\n",
       "  </tbody>\n",
       "</table>\n",
       "</div>"
      ],
      "text/plain": [
       "                                                    count\n",
       "caption                                                  \n",
       "<start> a group of people standing next to each...   2661\n",
       "<start> a large building with a clock on top of...   1933\n",
       "<start> a group of people standing on top of a ...   1826\n",
       "<start> a group of young men playing a game of ...   1760\n",
       "<start> a large building with a clock on the si...   1518"
      ]
     },
     "execution_count": 14,
     "metadata": {},
     "output_type": "execute_result"
    }
   ],
   "source": [
    "#create a dataframe of classes counts\n",
    "label_counts = pd.DataFrame(data.caption.value_counts())\n",
    "label_counts.head()"
   ]
  },
  {
   "cell_type": "code",
   "execution_count": 15,
   "metadata": {},
   "outputs": [],
   "source": [
    "tokenizer = RegexpTokenizer(r'[A-Za-z]+')"
   ]
  },
  {
   "cell_type": "code",
   "execution_count": 16,
   "metadata": {},
   "outputs": [
    {
     "name": "stdout",
     "output_type": "stream",
     "text": [
      "Getting words tokenized ...\n"
     ]
    }
   ],
   "source": [
    "print('Getting words tokenized ...')\n",
    "data['text_tokenized'] = data.caption.map(lambda t: tokenizer.tokenize(t)) # doing with all rows\n"
   ]
  },
  {
   "cell_type": "code",
   "execution_count": 17,
   "metadata": {},
   "outputs": [
    {
     "name": "stdout",
     "output_type": "stream",
     "text": [
      "Getting words stemmed ...\n"
     ]
    }
   ],
   "source": [
    "stemmer = SnowballStemmer(\"english\") # choose a language\n",
    "\n",
    "print('Getting words stemmed ...')\n",
    "data['text_stemmed'] = data['text_tokenized'].map(lambda l: [stemmer.stem(word) for word in l])"
   ]
  },
  {
   "cell_type": "code",
   "execution_count": 18,
   "metadata": {},
   "outputs": [
    {
     "data": {
      "text/html": [
       "<div>\n",
       "<style scoped>\n",
       "    .dataframe tbody tr th:only-of-type {\n",
       "        vertical-align: middle;\n",
       "    }\n",
       "\n",
       "    .dataframe tbody tr th {\n",
       "        vertical-align: top;\n",
       "    }\n",
       "\n",
       "    .dataframe thead th {\n",
       "        text-align: right;\n",
       "    }\n",
       "</style>\n",
       "<table border=\"1\" class=\"dataframe\">\n",
       "  <thead>\n",
       "    <tr style=\"text-align: right;\">\n",
       "      <th></th>\n",
       "      <th>caption</th>\n",
       "      <th>male</th>\n",
       "      <th>female</th>\n",
       "      <th>label</th>\n",
       "      <th>text_tokenized</th>\n",
       "      <th>text_stemmed</th>\n",
       "    </tr>\n",
       "  </thead>\n",
       "  <tbody>\n",
       "    <tr>\n",
       "      <th>91733</th>\n",
       "      <td>&lt;start&gt; a blue and blue bird standing in a gra...</td>\n",
       "      <td>False</td>\n",
       "      <td>False</td>\n",
       "      <td>Bot</td>\n",
       "      <td>[start, a, blue, and, blue, bird, standing, in...</td>\n",
       "      <td>[start, a, blue, and, blue, bird, stand, in, a...</td>\n",
       "    </tr>\n",
       "    <tr>\n",
       "      <th>203507</th>\n",
       "      <td>&lt;start&gt; a tall tree with a tree in the backgro...</td>\n",
       "      <td>False</td>\n",
       "      <td>False</td>\n",
       "      <td>Bot</td>\n",
       "      <td>[start, a, tall, tree, with, a, tree, in, the,...</td>\n",
       "      <td>[start, a, tall, tree, with, a, tree, in, the,...</td>\n",
       "    </tr>\n",
       "    <tr>\n",
       "      <th>19258</th>\n",
       "      <td>&lt;start&gt; a black and white dog is standing in t...</td>\n",
       "      <td>False</td>\n",
       "      <td>False</td>\n",
       "      <td>Bot</td>\n",
       "      <td>[start, a, black, and, white, dog, is, standin...</td>\n",
       "      <td>[start, a, black, and, white, dog, is, stand, ...</td>\n",
       "    </tr>\n",
       "    <tr>\n",
       "      <th>127386</th>\n",
       "      <td>&lt;start&gt; a young woman is holding a tennis rack...</td>\n",
       "      <td>False</td>\n",
       "      <td>True</td>\n",
       "      <td>Female</td>\n",
       "      <td>[start, a, young, woman, is, holding, a, tenni...</td>\n",
       "      <td>[start, a, young, woman, is, hold, a, tenni, r...</td>\n",
       "    </tr>\n",
       "    <tr>\n",
       "      <th>22469</th>\n",
       "      <td>&lt;start&gt; a group of people standing on a sidewa...</td>\n",
       "      <td>False</td>\n",
       "      <td>False</td>\n",
       "      <td>Bot</td>\n",
       "      <td>[start, a, group, of, people, standing, on, a,...</td>\n",
       "      <td>[start, a, group, of, peopl, stand, on, a, sid...</td>\n",
       "    </tr>\n",
       "    <tr>\n",
       "      <th>306687</th>\n",
       "      <td>&lt;start&gt; a person walking down a city street in...</td>\n",
       "      <td>False</td>\n",
       "      <td>False</td>\n",
       "      <td>Bot</td>\n",
       "      <td>[start, a, person, walking, down, a, city, str...</td>\n",
       "      <td>[start, a, person, walk, down, a, citi, street...</td>\n",
       "    </tr>\n",
       "    <tr>\n",
       "      <th>28198</th>\n",
       "      <td>&lt;start&gt; a man sitting at a table in front of a...</td>\n",
       "      <td>True</td>\n",
       "      <td>False</td>\n",
       "      <td>Male</td>\n",
       "      <td>[start, a, man, sitting, at, a, table, in, fro...</td>\n",
       "      <td>[start, a, man, sit, at, a, tabl, in, front, o...</td>\n",
       "    </tr>\n",
       "    <tr>\n",
       "      <th>163914</th>\n",
       "      <td>&lt;start&gt; a black and white photo of a man and a...</td>\n",
       "      <td>True</td>\n",
       "      <td>True</td>\n",
       "      <td>Neutral</td>\n",
       "      <td>[start, a, black, and, white, photo, of, a, ma...</td>\n",
       "      <td>[start, a, black, and, white, photo, of, a, ma...</td>\n",
       "    </tr>\n",
       "    <tr>\n",
       "      <th>246815</th>\n",
       "      <td>&lt;start&gt; a bunch of flowers are in a green plan...</td>\n",
       "      <td>False</td>\n",
       "      <td>False</td>\n",
       "      <td>Bot</td>\n",
       "      <td>[start, a, bunch, of, flowers, are, in, a, gre...</td>\n",
       "      <td>[start, a, bunch, of, flower, are, in, a, gree...</td>\n",
       "    </tr>\n",
       "    <tr>\n",
       "      <th>191475</th>\n",
       "      <td>&lt;start&gt; a bunch of teddy bears that are sittin...</td>\n",
       "      <td>False</td>\n",
       "      <td>False</td>\n",
       "      <td>Bot</td>\n",
       "      <td>[start, a, bunch, of, teddy, bears, that, are,...</td>\n",
       "      <td>[start, a, bunch, of, teddi, bear, that, are, ...</td>\n",
       "    </tr>\n",
       "    <tr>\n",
       "      <th>265643</th>\n",
       "      <td>&lt;start&gt; a bike parked next to a bike on the si...</td>\n",
       "      <td>False</td>\n",
       "      <td>False</td>\n",
       "      <td>Bot</td>\n",
       "      <td>[start, a, bike, parked, next, to, a, bike, on...</td>\n",
       "      <td>[start, a, bike, park, next, to, a, bike, on, ...</td>\n",
       "    </tr>\n",
       "    <tr>\n",
       "      <th>68691</th>\n",
       "      <td>&lt;start&gt; a group of people on a boat in the wat...</td>\n",
       "      <td>False</td>\n",
       "      <td>False</td>\n",
       "      <td>Bot</td>\n",
       "      <td>[start, a, group, of, people, on, a, boat, in,...</td>\n",
       "      <td>[start, a, group, of, peopl, on, a, boat, in, ...</td>\n",
       "    </tr>\n",
       "    <tr>\n",
       "      <th>307693</th>\n",
       "      <td>&lt;start&gt; a view of a large body of water with c...</td>\n",
       "      <td>False</td>\n",
       "      <td>False</td>\n",
       "      <td>Bot</td>\n",
       "      <td>[start, a, view, of, a, large, body, of, water...</td>\n",
       "      <td>[start, a, view, of, a, larg, bodi, of, water,...</td>\n",
       "    </tr>\n",
       "    <tr>\n",
       "      <th>251321</th>\n",
       "      <td>&lt;start&gt; a train station with a train station i...</td>\n",
       "      <td>False</td>\n",
       "      <td>False</td>\n",
       "      <td>Bot</td>\n",
       "      <td>[start, a, train, station, with, a, train, sta...</td>\n",
       "      <td>[start, a, train, station, with, a, train, sta...</td>\n",
       "    </tr>\n",
       "    <tr>\n",
       "      <th>55131</th>\n",
       "      <td>&lt;start&gt; a large group of people walking across...</td>\n",
       "      <td>False</td>\n",
       "      <td>False</td>\n",
       "      <td>Bot</td>\n",
       "      <td>[start, a, large, group, of, people, walking, ...</td>\n",
       "      <td>[start, a, larg, group, of, peopl, walk, acros...</td>\n",
       "    </tr>\n",
       "    <tr>\n",
       "      <th>26173</th>\n",
       "      <td>&lt;start&gt; a close up of a person holding a cell ...</td>\n",
       "      <td>False</td>\n",
       "      <td>False</td>\n",
       "      <td>Bot</td>\n",
       "      <td>[start, a, close, up, of, a, person, holding, ...</td>\n",
       "      <td>[start, a, close, up, of, a, person, hold, a, ...</td>\n",
       "    </tr>\n",
       "    <tr>\n",
       "      <th>313784</th>\n",
       "      <td>&lt;start&gt; a herd of animals standing on top of a...</td>\n",
       "      <td>False</td>\n",
       "      <td>False</td>\n",
       "      <td>Bot</td>\n",
       "      <td>[start, a, herd, of, animals, standing, on, to...</td>\n",
       "      <td>[start, a, herd, of, anim, stand, on, top, of,...</td>\n",
       "    </tr>\n",
       "    <tr>\n",
       "      <th>101083</th>\n",
       "      <td>&lt;start&gt; a picture of a &lt;unk&gt; on the wall of a ...</td>\n",
       "      <td>False</td>\n",
       "      <td>False</td>\n",
       "      <td>Bot</td>\n",
       "      <td>[start, a, picture, of, a, unk, on, the, wall,...</td>\n",
       "      <td>[start, a, pictur, of, a, unk, on, the, wall, ...</td>\n",
       "    </tr>\n",
       "    <tr>\n",
       "      <th>316802</th>\n",
       "      <td>&lt;start&gt; a person standing next to a tree in a ...</td>\n",
       "      <td>False</td>\n",
       "      <td>False</td>\n",
       "      <td>Bot</td>\n",
       "      <td>[start, a, person, standing, next, to, a, tree...</td>\n",
       "      <td>[start, a, person, stand, next, to, a, tree, i...</td>\n",
       "    </tr>\n",
       "    <tr>\n",
       "      <th>290862</th>\n",
       "      <td>&lt;start&gt; a white bird standing on top of a body...</td>\n",
       "      <td>False</td>\n",
       "      <td>False</td>\n",
       "      <td>Bot</td>\n",
       "      <td>[start, a, white, bird, standing, on, top, of,...</td>\n",
       "      <td>[start, a, white, bird, stand, on, top, of, a,...</td>\n",
       "    </tr>\n",
       "  </tbody>\n",
       "</table>\n",
       "</div>"
      ],
      "text/plain": [
       "                                                  caption   male  female  \\\n",
       "91733   <start> a blue and blue bird standing in a gra...  False   False   \n",
       "203507  <start> a tall tree with a tree in the backgro...  False   False   \n",
       "19258   <start> a black and white dog is standing in t...  False   False   \n",
       "127386  <start> a young woman is holding a tennis rack...  False    True   \n",
       "22469   <start> a group of people standing on a sidewa...  False   False   \n",
       "306687  <start> a person walking down a city street in...  False   False   \n",
       "28198   <start> a man sitting at a table in front of a...   True   False   \n",
       "163914  <start> a black and white photo of a man and a...   True    True   \n",
       "246815  <start> a bunch of flowers are in a green plan...  False   False   \n",
       "191475  <start> a bunch of teddy bears that are sittin...  False   False   \n",
       "265643  <start> a bike parked next to a bike on the si...  False   False   \n",
       "68691   <start> a group of people on a boat in the wat...  False   False   \n",
       "307693  <start> a view of a large body of water with c...  False   False   \n",
       "251321  <start> a train station with a train station i...  False   False   \n",
       "55131   <start> a large group of people walking across...  False   False   \n",
       "26173   <start> a close up of a person holding a cell ...  False   False   \n",
       "313784  <start> a herd of animals standing on top of a...  False   False   \n",
       "101083  <start> a picture of a <unk> on the wall of a ...  False   False   \n",
       "316802  <start> a person standing next to a tree in a ...  False   False   \n",
       "290862  <start> a white bird standing on top of a body...  False   False   \n",
       "\n",
       "          label                                     text_tokenized  \\\n",
       "91733       Bot  [start, a, blue, and, blue, bird, standing, in...   \n",
       "203507      Bot  [start, a, tall, tree, with, a, tree, in, the,...   \n",
       "19258       Bot  [start, a, black, and, white, dog, is, standin...   \n",
       "127386   Female  [start, a, young, woman, is, holding, a, tenni...   \n",
       "22469       Bot  [start, a, group, of, people, standing, on, a,...   \n",
       "306687      Bot  [start, a, person, walking, down, a, city, str...   \n",
       "28198      Male  [start, a, man, sitting, at, a, table, in, fro...   \n",
       "163914  Neutral  [start, a, black, and, white, photo, of, a, ma...   \n",
       "246815      Bot  [start, a, bunch, of, flowers, are, in, a, gre...   \n",
       "191475      Bot  [start, a, bunch, of, teddy, bears, that, are,...   \n",
       "265643      Bot  [start, a, bike, parked, next, to, a, bike, on...   \n",
       "68691       Bot  [start, a, group, of, people, on, a, boat, in,...   \n",
       "307693      Bot  [start, a, view, of, a, large, body, of, water...   \n",
       "251321      Bot  [start, a, train, station, with, a, train, sta...   \n",
       "55131       Bot  [start, a, large, group, of, people, walking, ...   \n",
       "26173       Bot  [start, a, close, up, of, a, person, holding, ...   \n",
       "313784      Bot  [start, a, herd, of, animals, standing, on, to...   \n",
       "101083      Bot  [start, a, picture, of, a, unk, on, the, wall,...   \n",
       "316802      Bot  [start, a, person, standing, next, to, a, tree...   \n",
       "290862      Bot  [start, a, white, bird, standing, on, top, of,...   \n",
       "\n",
       "                                             text_stemmed  \n",
       "91733   [start, a, blue, and, blue, bird, stand, in, a...  \n",
       "203507  [start, a, tall, tree, with, a, tree, in, the,...  \n",
       "19258   [start, a, black, and, white, dog, is, stand, ...  \n",
       "127386  [start, a, young, woman, is, hold, a, tenni, r...  \n",
       "22469   [start, a, group, of, peopl, stand, on, a, sid...  \n",
       "306687  [start, a, person, walk, down, a, citi, street...  \n",
       "28198   [start, a, man, sit, at, a, tabl, in, front, o...  \n",
       "163914  [start, a, black, and, white, photo, of, a, ma...  \n",
       "246815  [start, a, bunch, of, flower, are, in, a, gree...  \n",
       "191475  [start, a, bunch, of, teddi, bear, that, are, ...  \n",
       "265643  [start, a, bike, park, next, to, a, bike, on, ...  \n",
       "68691   [start, a, group, of, peopl, on, a, boat, in, ...  \n",
       "307693  [start, a, view, of, a, larg, bodi, of, water,...  \n",
       "251321  [start, a, train, station, with, a, train, sta...  \n",
       "55131   [start, a, larg, group, of, peopl, walk, acros...  \n",
       "26173   [start, a, close, up, of, a, person, hold, a, ...  \n",
       "313784  [start, a, herd, of, anim, stand, on, top, of,...  \n",
       "101083  [start, a, pictur, of, a, unk, on, the, wall, ...  \n",
       "316802  [start, a, person, stand, next, to, a, tree, i...  \n",
       "290862  [start, a, white, bird, stand, on, top, of, a,...  "
      ]
     },
     "execution_count": 18,
     "metadata": {},
     "output_type": "execute_result"
    }
   ],
   "source": [
    "data.sample(20)"
   ]
  },
  {
   "cell_type": "code",
   "execution_count": 19,
   "metadata": {},
   "outputs": [
    {
     "name": "stdout",
     "output_type": "stream",
     "text": [
      "Getting joiningwords ...\n"
     ]
    }
   ],
   "source": [
    "print('Getting joiningwords ...')\n",
    "data['text_sent'] = data['text_stemmed'].map(lambda l: ' '.join(l))"
   ]
  },
  {
   "cell_type": "code",
   "execution_count": 20,
   "metadata": {},
   "outputs": [],
   "source": [
    "# sliceing classes\n",
    "\n",
    "Female_comment = data[data.label == 'Female']\n",
    "Male_comment = data[data.label == 'Male']\n",
    "Neutral_comment = data[data.label == 'Neutral']\n",
    "Bots_comment = data[data.label == 'Bot']"
   ]
  },
  {
   "cell_type": "code",
   "execution_count": 21,
   "metadata": {},
   "outputs": [
    {
     "data": {
      "text/html": [
       "<div>\n",
       "<style scoped>\n",
       "    .dataframe tbody tr th:only-of-type {\n",
       "        vertical-align: middle;\n",
       "    }\n",
       "\n",
       "    .dataframe tbody tr th {\n",
       "        vertical-align: top;\n",
       "    }\n",
       "\n",
       "    .dataframe thead th {\n",
       "        text-align: right;\n",
       "    }\n",
       "</style>\n",
       "<table border=\"1\" class=\"dataframe\">\n",
       "  <thead>\n",
       "    <tr style=\"text-align: right;\">\n",
       "      <th></th>\n",
       "      <th>caption</th>\n",
       "      <th>male</th>\n",
       "      <th>female</th>\n",
       "      <th>label</th>\n",
       "      <th>text_tokenized</th>\n",
       "      <th>text_stemmed</th>\n",
       "      <th>text_sent</th>\n",
       "    </tr>\n",
       "  </thead>\n",
       "  <tbody>\n",
       "    <tr>\n",
       "      <th>11</th>\n",
       "      <td>&lt;start&gt; a woman standing in front of a snow co...</td>\n",
       "      <td>False</td>\n",
       "      <td>True</td>\n",
       "      <td>Female</td>\n",
       "      <td>[start, a, woman, standing, in, front, of, a, ...</td>\n",
       "      <td>[start, a, woman, stand, in, front, of, a, sno...</td>\n",
       "      <td>start a woman stand in front of a snow cover m...</td>\n",
       "    </tr>\n",
       "    <tr>\n",
       "      <th>16</th>\n",
       "      <td>&lt;start&gt; a little girl sitting on a chair in a ...</td>\n",
       "      <td>False</td>\n",
       "      <td>True</td>\n",
       "      <td>Female</td>\n",
       "      <td>[start, a, little, girl, sitting, on, a, chair...</td>\n",
       "      <td>[start, a, littl, girl, sit, on, a, chair, in,...</td>\n",
       "      <td>start a littl girl sit on a chair in a live ro...</td>\n",
       "    </tr>\n",
       "    <tr>\n",
       "      <th>27</th>\n",
       "      <td>&lt;start&gt; a woman standing in front of a refrige...</td>\n",
       "      <td>False</td>\n",
       "      <td>True</td>\n",
       "      <td>Female</td>\n",
       "      <td>[start, a, woman, standing, in, front, of, a, ...</td>\n",
       "      <td>[start, a, woman, stand, in, front, of, a, ref...</td>\n",
       "      <td>start a woman stand in front of a refriger wit...</td>\n",
       "    </tr>\n",
       "    <tr>\n",
       "      <th>31</th>\n",
       "      <td>&lt;start&gt; a woman is sitting next to a woman and...</td>\n",
       "      <td>False</td>\n",
       "      <td>True</td>\n",
       "      <td>Female</td>\n",
       "      <td>[start, a, woman, is, sitting, next, to, a, wo...</td>\n",
       "      <td>[start, a, woman, is, sit, next, to, a, woman,...</td>\n",
       "      <td>start a woman is sit next to a woman and a wom...</td>\n",
       "    </tr>\n",
       "    <tr>\n",
       "      <th>57</th>\n",
       "      <td>&lt;start&gt; a young woman sitting on a bench in fr...</td>\n",
       "      <td>False</td>\n",
       "      <td>True</td>\n",
       "      <td>Female</td>\n",
       "      <td>[start, a, young, woman, sitting, on, a, bench...</td>\n",
       "      <td>[start, a, young, woman, sit, on, a, bench, in...</td>\n",
       "      <td>start a young woman sit on a bench in front of...</td>\n",
       "    </tr>\n",
       "  </tbody>\n",
       "</table>\n",
       "</div>"
      ],
      "text/plain": [
       "                                              caption   male  female   label  \\\n",
       "11  <start> a woman standing in front of a snow co...  False    True  Female   \n",
       "16  <start> a little girl sitting on a chair in a ...  False    True  Female   \n",
       "27  <start> a woman standing in front of a refrige...  False    True  Female   \n",
       "31  <start> a woman is sitting next to a woman and...  False    True  Female   \n",
       "57  <start> a young woman sitting on a bench in fr...  False    True  Female   \n",
       "\n",
       "                                       text_tokenized  \\\n",
       "11  [start, a, woman, standing, in, front, of, a, ...   \n",
       "16  [start, a, little, girl, sitting, on, a, chair...   \n",
       "27  [start, a, woman, standing, in, front, of, a, ...   \n",
       "31  [start, a, woman, is, sitting, next, to, a, wo...   \n",
       "57  [start, a, young, woman, sitting, on, a, bench...   \n",
       "\n",
       "                                         text_stemmed  \\\n",
       "11  [start, a, woman, stand, in, front, of, a, sno...   \n",
       "16  [start, a, littl, girl, sit, on, a, chair, in,...   \n",
       "27  [start, a, woman, stand, in, front, of, a, ref...   \n",
       "31  [start, a, woman, is, sit, next, to, a, woman,...   \n",
       "57  [start, a, young, woman, sit, on, a, bench, in...   \n",
       "\n",
       "                                            text_sent  \n",
       "11  start a woman stand in front of a snow cover m...  \n",
       "16  start a littl girl sit on a chair in a live ro...  \n",
       "27  start a woman stand in front of a refriger wit...  \n",
       "31  start a woman is sit next to a woman and a wom...  \n",
       "57  start a young woman sit on a bench in front of...  "
      ]
     },
     "execution_count": 21,
     "metadata": {},
     "output_type": "execute_result"
    }
   ],
   "source": [
    "Female_comment.head()"
   ]
  },
  {
   "cell_type": "code",
   "execution_count": 22,
   "metadata": {},
   "outputs": [
    {
     "data": {
      "text/html": [
       "<div>\n",
       "<style scoped>\n",
       "    .dataframe tbody tr th:only-of-type {\n",
       "        vertical-align: middle;\n",
       "    }\n",
       "\n",
       "    .dataframe tbody tr th {\n",
       "        vertical-align: top;\n",
       "    }\n",
       "\n",
       "    .dataframe thead th {\n",
       "        text-align: right;\n",
       "    }\n",
       "</style>\n",
       "<table border=\"1\" class=\"dataframe\">\n",
       "  <thead>\n",
       "    <tr style=\"text-align: right;\">\n",
       "      <th></th>\n",
       "      <th>caption</th>\n",
       "      <th>male</th>\n",
       "      <th>female</th>\n",
       "      <th>label</th>\n",
       "      <th>text_tokenized</th>\n",
       "      <th>text_stemmed</th>\n",
       "      <th>text_sent</th>\n",
       "    </tr>\n",
       "  </thead>\n",
       "  <tbody>\n",
       "    <tr>\n",
       "      <th>2</th>\n",
       "      <td>&lt;start&gt; a young boy holding a baseball bat on ...</td>\n",
       "      <td>True</td>\n",
       "      <td>False</td>\n",
       "      <td>Male</td>\n",
       "      <td>[start, a, young, boy, holding, a, baseball, b...</td>\n",
       "      <td>[start, a, young, boy, hold, a, basebal, bat, ...</td>\n",
       "      <td>start a young boy hold a basebal bat on a base...</td>\n",
       "    </tr>\n",
       "    <tr>\n",
       "      <th>5</th>\n",
       "      <td>&lt;start&gt; a group of people sitting in a living ...</td>\n",
       "      <td>True</td>\n",
       "      <td>False</td>\n",
       "      <td>Male</td>\n",
       "      <td>[start, a, group, of, people, sitting, in, a, ...</td>\n",
       "      <td>[start, a, group, of, peopl, sit, in, a, live,...</td>\n",
       "      <td>start a group of peopl sit in a live room with...</td>\n",
       "    </tr>\n",
       "    <tr>\n",
       "      <th>10</th>\n",
       "      <td>&lt;start&gt; a group of men standing next to each o...</td>\n",
       "      <td>True</td>\n",
       "      <td>False</td>\n",
       "      <td>Male</td>\n",
       "      <td>[start, a, group, of, men, standing, next, to,...</td>\n",
       "      <td>[start, a, group, of, men, stand, next, to, ea...</td>\n",
       "      <td>start a group of men stand next to each other ...</td>\n",
       "    </tr>\n",
       "    <tr>\n",
       "      <th>13</th>\n",
       "      <td>&lt;start&gt; a man standing in a living room holdin...</td>\n",
       "      <td>True</td>\n",
       "      <td>False</td>\n",
       "      <td>Male</td>\n",
       "      <td>[start, a, man, standing, in, a, living, room,...</td>\n",
       "      <td>[start, a, man, stand, in, a, live, room, hold...</td>\n",
       "      <td>start a man stand in a live room hold a wii co...</td>\n",
       "    </tr>\n",
       "    <tr>\n",
       "      <th>15</th>\n",
       "      <td>&lt;start&gt; a man wearing glasses and a red shirt ...</td>\n",
       "      <td>True</td>\n",
       "      <td>False</td>\n",
       "      <td>Male</td>\n",
       "      <td>[start, a, man, wearing, glasses, and, a, red,...</td>\n",
       "      <td>[start, a, man, wear, glass, and, a, red, shir...</td>\n",
       "      <td>start a man wear glass and a red shirt with a ...</td>\n",
       "    </tr>\n",
       "  </tbody>\n",
       "</table>\n",
       "</div>"
      ],
      "text/plain": [
       "                                              caption  male  female label  \\\n",
       "2   <start> a young boy holding a baseball bat on ...  True   False  Male   \n",
       "5   <start> a group of people sitting in a living ...  True   False  Male   \n",
       "10  <start> a group of men standing next to each o...  True   False  Male   \n",
       "13  <start> a man standing in a living room holdin...  True   False  Male   \n",
       "15  <start> a man wearing glasses and a red shirt ...  True   False  Male   \n",
       "\n",
       "                                       text_tokenized  \\\n",
       "2   [start, a, young, boy, holding, a, baseball, b...   \n",
       "5   [start, a, group, of, people, sitting, in, a, ...   \n",
       "10  [start, a, group, of, men, standing, next, to,...   \n",
       "13  [start, a, man, standing, in, a, living, room,...   \n",
       "15  [start, a, man, wearing, glasses, and, a, red,...   \n",
       "\n",
       "                                         text_stemmed  \\\n",
       "2   [start, a, young, boy, hold, a, basebal, bat, ...   \n",
       "5   [start, a, group, of, peopl, sit, in, a, live,...   \n",
       "10  [start, a, group, of, men, stand, next, to, ea...   \n",
       "13  [start, a, man, stand, in, a, live, room, hold...   \n",
       "15  [start, a, man, wear, glass, and, a, red, shir...   \n",
       "\n",
       "                                            text_sent  \n",
       "2   start a young boy hold a basebal bat on a base...  \n",
       "5   start a group of peopl sit in a live room with...  \n",
       "10  start a group of men stand next to each other ...  \n",
       "13  start a man stand in a live room hold a wii co...  \n",
       "15  start a man wear glass and a red shirt with a ...  "
      ]
     },
     "execution_count": 22,
     "metadata": {},
     "output_type": "execute_result"
    }
   ],
   "source": [
    "Male_comment.head()"
   ]
  },
  {
   "cell_type": "code",
   "execution_count": 23,
   "metadata": {},
   "outputs": [
    {
     "data": {
      "text/html": [
       "<div>\n",
       "<style scoped>\n",
       "    .dataframe tbody tr th:only-of-type {\n",
       "        vertical-align: middle;\n",
       "    }\n",
       "\n",
       "    .dataframe tbody tr th {\n",
       "        vertical-align: top;\n",
       "    }\n",
       "\n",
       "    .dataframe thead th {\n",
       "        text-align: right;\n",
       "    }\n",
       "</style>\n",
       "<table border=\"1\" class=\"dataframe\">\n",
       "  <thead>\n",
       "    <tr style=\"text-align: right;\">\n",
       "      <th></th>\n",
       "      <th>caption</th>\n",
       "      <th>male</th>\n",
       "      <th>female</th>\n",
       "      <th>label</th>\n",
       "      <th>text_tokenized</th>\n",
       "      <th>text_stemmed</th>\n",
       "      <th>text_sent</th>\n",
       "    </tr>\n",
       "  </thead>\n",
       "  <tbody>\n",
       "    <tr>\n",
       "      <th>81</th>\n",
       "      <td>&lt;start&gt; a young boy is standing in front of a ...</td>\n",
       "      <td>True</td>\n",
       "      <td>True</td>\n",
       "      <td>Neutral</td>\n",
       "      <td>[start, a, young, boy, is, standing, in, front...</td>\n",
       "      <td>[start, a, young, boy, is, stand, in, front, o...</td>\n",
       "      <td>start a young boy is stand in front of a woman eo</td>\n",
       "    </tr>\n",
       "    <tr>\n",
       "      <th>157</th>\n",
       "      <td>&lt;start&gt; a man and a woman standing next to eac...</td>\n",
       "      <td>True</td>\n",
       "      <td>True</td>\n",
       "      <td>Neutral</td>\n",
       "      <td>[start, a, man, and, a, woman, standing, next,...</td>\n",
       "      <td>[start, a, man, and, a, woman, stand, next, to...</td>\n",
       "      <td>start a man and a woman stand next to each oth...</td>\n",
       "    </tr>\n",
       "    <tr>\n",
       "      <th>199</th>\n",
       "      <td>&lt;start&gt; a bride and groom are cutting a weddin...</td>\n",
       "      <td>True</td>\n",
       "      <td>True</td>\n",
       "      <td>Neutral</td>\n",
       "      <td>[start, a, bride, and, groom, are, cutting, a,...</td>\n",
       "      <td>[start, a, bride, and, groom, are, cut, a, wed...</td>\n",
       "      <td>start a bride and groom are cut a wed cake eo</td>\n",
       "    </tr>\n",
       "    <tr>\n",
       "      <th>297</th>\n",
       "      <td>&lt;start&gt; a man and a woman standing next to eac...</td>\n",
       "      <td>True</td>\n",
       "      <td>True</td>\n",
       "      <td>Neutral</td>\n",
       "      <td>[start, a, man, and, a, woman, standing, next,...</td>\n",
       "      <td>[start, a, man, and, a, woman, stand, next, to...</td>\n",
       "      <td>start a man and a woman stand next to each oth...</td>\n",
       "    </tr>\n",
       "    <tr>\n",
       "      <th>299</th>\n",
       "      <td>&lt;start&gt; a black and white photo of a man and a...</td>\n",
       "      <td>True</td>\n",
       "      <td>True</td>\n",
       "      <td>Neutral</td>\n",
       "      <td>[start, a, black, and, white, photo, of, a, ma...</td>\n",
       "      <td>[start, a, black, and, white, photo, of, a, ma...</td>\n",
       "      <td>start a black and white photo of a man and a w...</td>\n",
       "    </tr>\n",
       "  </tbody>\n",
       "</table>\n",
       "</div>"
      ],
      "text/plain": [
       "                                               caption  male  female    label  \\\n",
       "81   <start> a young boy is standing in front of a ...  True    True  Neutral   \n",
       "157  <start> a man and a woman standing next to eac...  True    True  Neutral   \n",
       "199  <start> a bride and groom are cutting a weddin...  True    True  Neutral   \n",
       "297  <start> a man and a woman standing next to eac...  True    True  Neutral   \n",
       "299  <start> a black and white photo of a man and a...  True    True  Neutral   \n",
       "\n",
       "                                        text_tokenized  \\\n",
       "81   [start, a, young, boy, is, standing, in, front...   \n",
       "157  [start, a, man, and, a, woman, standing, next,...   \n",
       "199  [start, a, bride, and, groom, are, cutting, a,...   \n",
       "297  [start, a, man, and, a, woman, standing, next,...   \n",
       "299  [start, a, black, and, white, photo, of, a, ma...   \n",
       "\n",
       "                                          text_stemmed  \\\n",
       "81   [start, a, young, boy, is, stand, in, front, o...   \n",
       "157  [start, a, man, and, a, woman, stand, next, to...   \n",
       "199  [start, a, bride, and, groom, are, cut, a, wed...   \n",
       "297  [start, a, man, and, a, woman, stand, next, to...   \n",
       "299  [start, a, black, and, white, photo, of, a, ma...   \n",
       "\n",
       "                                             text_sent  \n",
       "81   start a young boy is stand in front of a woman eo  \n",
       "157  start a man and a woman stand next to each oth...  \n",
       "199      start a bride and groom are cut a wed cake eo  \n",
       "297  start a man and a woman stand next to each oth...  \n",
       "299  start a black and white photo of a man and a w...  "
      ]
     },
     "execution_count": 23,
     "metadata": {},
     "output_type": "execute_result"
    }
   ],
   "source": [
    "Neutral_comment.head()"
   ]
  },
  {
   "cell_type": "code",
   "execution_count": 35,
   "metadata": {},
   "outputs": [
    {
     "data": {
      "text/html": [
       "<div>\n",
       "<style scoped>\n",
       "    .dataframe tbody tr th:only-of-type {\n",
       "        vertical-align: middle;\n",
       "    }\n",
       "\n",
       "    .dataframe tbody tr th {\n",
       "        vertical-align: top;\n",
       "    }\n",
       "\n",
       "    .dataframe thead th {\n",
       "        text-align: right;\n",
       "    }\n",
       "</style>\n",
       "<table border=\"1\" class=\"dataframe\">\n",
       "  <thead>\n",
       "    <tr style=\"text-align: right;\">\n",
       "      <th></th>\n",
       "      <th>caption</th>\n",
       "      <th>male</th>\n",
       "      <th>female</th>\n",
       "      <th>label</th>\n",
       "      <th>text_tokenized</th>\n",
       "      <th>text_stemmed</th>\n",
       "      <th>text_sent</th>\n",
       "    </tr>\n",
       "  </thead>\n",
       "  <tbody>\n",
       "    <tr>\n",
       "      <th>0</th>\n",
       "      <td>&lt;start&gt; a group of people standing in the midd...</td>\n",
       "      <td>False</td>\n",
       "      <td>False</td>\n",
       "      <td>Bot</td>\n",
       "      <td>[start, a, group, of, people, standing, in, th...</td>\n",
       "      <td>[start, a, group, of, peopl, stand, in, the, m...</td>\n",
       "      <td>start a group of peopl stand in the middl of a...</td>\n",
       "    </tr>\n",
       "    <tr>\n",
       "      <th>1</th>\n",
       "      <td>&lt;start&gt; a group of people standing next to eac...</td>\n",
       "      <td>False</td>\n",
       "      <td>False</td>\n",
       "      <td>Bot</td>\n",
       "      <td>[start, a, group, of, people, standing, next, ...</td>\n",
       "      <td>[start, a, group, of, peopl, stand, next, to, ...</td>\n",
       "      <td>start a group of peopl stand next to each othe...</td>\n",
       "    </tr>\n",
       "    <tr>\n",
       "      <th>3</th>\n",
       "      <td>&lt;start&gt; a group of people standing on top of a...</td>\n",
       "      <td>False</td>\n",
       "      <td>False</td>\n",
       "      <td>Bot</td>\n",
       "      <td>[start, a, group, of, people, standing, on, to...</td>\n",
       "      <td>[start, a, group, of, peopl, stand, on, top, o...</td>\n",
       "      <td>start a group of peopl stand on top of a sandi...</td>\n",
       "    </tr>\n",
       "    <tr>\n",
       "      <th>4</th>\n",
       "      <td>&lt;start&gt; a group of people sitting in a living ...</td>\n",
       "      <td>False</td>\n",
       "      <td>False</td>\n",
       "      <td>Bot</td>\n",
       "      <td>[start, a, group, of, people, sitting, in, a, ...</td>\n",
       "      <td>[start, a, group, of, peopl, sit, in, a, live,...</td>\n",
       "      <td>start a group of peopl sit in a live room play...</td>\n",
       "    </tr>\n",
       "    <tr>\n",
       "      <th>6</th>\n",
       "      <td>&lt;start&gt; an airplane is hanging on the ceiling ...</td>\n",
       "      <td>False</td>\n",
       "      <td>False</td>\n",
       "      <td>Bot</td>\n",
       "      <td>[start, an, airplane, is, hanging, on, the, ce...</td>\n",
       "      <td>[start, an, airplan, is, hang, on, the, ceil, ...</td>\n",
       "      <td>start an airplan is hang on the ceil of a buil...</td>\n",
       "    </tr>\n",
       "  </tbody>\n",
       "</table>\n",
       "</div>"
      ],
      "text/plain": [
       "                                             caption   male  female label  \\\n",
       "0  <start> a group of people standing in the midd...  False   False   Bot   \n",
       "1  <start> a group of people standing next to eac...  False   False   Bot   \n",
       "3  <start> a group of people standing on top of a...  False   False   Bot   \n",
       "4  <start> a group of people sitting in a living ...  False   False   Bot   \n",
       "6  <start> an airplane is hanging on the ceiling ...  False   False   Bot   \n",
       "\n",
       "                                      text_tokenized  \\\n",
       "0  [start, a, group, of, people, standing, in, th...   \n",
       "1  [start, a, group, of, people, standing, next, ...   \n",
       "3  [start, a, group, of, people, standing, on, to...   \n",
       "4  [start, a, group, of, people, sitting, in, a, ...   \n",
       "6  [start, an, airplane, is, hanging, on, the, ce...   \n",
       "\n",
       "                                        text_stemmed  \\\n",
       "0  [start, a, group, of, peopl, stand, in, the, m...   \n",
       "1  [start, a, group, of, peopl, stand, next, to, ...   \n",
       "3  [start, a, group, of, peopl, stand, on, top, o...   \n",
       "4  [start, a, group, of, peopl, sit, in, a, live,...   \n",
       "6  [start, an, airplan, is, hang, on, the, ceil, ...   \n",
       "\n",
       "                                           text_sent  \n",
       "0  start a group of peopl stand in the middl of a...  \n",
       "1  start a group of peopl stand next to each othe...  \n",
       "3  start a group of peopl stand on top of a sandi...  \n",
       "4  start a group of peopl sit in a live room play...  \n",
       "6  start an airplan is hang on the ceil of a buil...  "
      ]
     },
     "execution_count": 35,
     "metadata": {},
     "output_type": "execute_result"
    }
   ],
   "source": [
    "Bots_comment.head()"
   ]
  },
  {
   "cell_type": "code",
   "execution_count": 24,
   "metadata": {},
   "outputs": [],
   "source": [
    "#create cv object\n",
    "cv = CountVectorizer()\n",
    "\n",
    "feature = cv.fit_transform(data.text_sent) #transform all text which we tokenize and stemmed"
   ]
  },
  {
   "cell_type": "code",
   "execution_count": 25,
   "metadata": {},
   "outputs": [
    {
     "data": {
      "text/plain": [
       "array([[0, 0, 0, ..., 0, 0, 0],\n",
       "       [0, 0, 0, ..., 0, 0, 0],\n",
       "       [0, 0, 0, ..., 1, 0, 0],\n",
       "       [0, 0, 0, ..., 0, 0, 0],\n",
       "       [0, 0, 0, ..., 0, 0, 0]])"
      ]
     },
     "execution_count": 25,
     "metadata": {},
     "output_type": "execute_result"
    }
   ],
   "source": [
    "feature[:5].toarray() # convert sparse matrix into array to print transformed features"
   ]
  },
  {
   "cell_type": "code",
   "execution_count": 26,
   "metadata": {},
   "outputs": [],
   "source": [
    "trainX, testX, trainY, testY = train_test_split(feature, data.label , test_size=0.3  )  # spliting data"
   ]
  },
  {
   "cell_type": "code",
   "execution_count": 27,
   "metadata": {},
   "outputs": [
    {
     "data": {
      "text/html": [
       "<style>#sk-container-id-1 {color: black;}#sk-container-id-1 pre{padding: 0;}#sk-container-id-1 div.sk-toggleable {background-color: white;}#sk-container-id-1 label.sk-toggleable__label {cursor: pointer;display: block;width: 100%;margin-bottom: 0;padding: 0.3em;box-sizing: border-box;text-align: center;}#sk-container-id-1 label.sk-toggleable__label-arrow:before {content: \"▸\";float: left;margin-right: 0.25em;color: #696969;}#sk-container-id-1 label.sk-toggleable__label-arrow:hover:before {color: black;}#sk-container-id-1 div.sk-estimator:hover label.sk-toggleable__label-arrow:before {color: black;}#sk-container-id-1 div.sk-toggleable__content {max-height: 0;max-width: 0;overflow: hidden;text-align: left;background-color: #f0f8ff;}#sk-container-id-1 div.sk-toggleable__content pre {margin: 0.2em;color: black;border-radius: 0.25em;background-color: #f0f8ff;}#sk-container-id-1 input.sk-toggleable__control:checked~div.sk-toggleable__content {max-height: 200px;max-width: 100%;overflow: auto;}#sk-container-id-1 input.sk-toggleable__control:checked~label.sk-toggleable__label-arrow:before {content: \"▾\";}#sk-container-id-1 div.sk-estimator input.sk-toggleable__control:checked~label.sk-toggleable__label {background-color: #d4ebff;}#sk-container-id-1 div.sk-label input.sk-toggleable__control:checked~label.sk-toggleable__label {background-color: #d4ebff;}#sk-container-id-1 input.sk-hidden--visually {border: 0;clip: rect(1px 1px 1px 1px);clip: rect(1px, 1px, 1px, 1px);height: 1px;margin: -1px;overflow: hidden;padding: 0;position: absolute;width: 1px;}#sk-container-id-1 div.sk-estimator {font-family: monospace;background-color: #f0f8ff;border: 1px dotted black;border-radius: 0.25em;box-sizing: border-box;margin-bottom: 0.5em;}#sk-container-id-1 div.sk-estimator:hover {background-color: #d4ebff;}#sk-container-id-1 div.sk-parallel-item::after {content: \"\";width: 100%;border-bottom: 1px solid gray;flex-grow: 1;}#sk-container-id-1 div.sk-label:hover label.sk-toggleable__label {background-color: #d4ebff;}#sk-container-id-1 div.sk-serial::before {content: \"\";position: absolute;border-left: 1px solid gray;box-sizing: border-box;top: 0;bottom: 0;left: 50%;z-index: 0;}#sk-container-id-1 div.sk-serial {display: flex;flex-direction: column;align-items: center;background-color: white;padding-right: 0.2em;padding-left: 0.2em;position: relative;}#sk-container-id-1 div.sk-item {position: relative;z-index: 1;}#sk-container-id-1 div.sk-parallel {display: flex;align-items: stretch;justify-content: center;background-color: white;position: relative;}#sk-container-id-1 div.sk-item::before, #sk-container-id-1 div.sk-parallel-item::before {content: \"\";position: absolute;border-left: 1px solid gray;box-sizing: border-box;top: 0;bottom: 0;left: 50%;z-index: -1;}#sk-container-id-1 div.sk-parallel-item {display: flex;flex-direction: column;z-index: 1;position: relative;background-color: white;}#sk-container-id-1 div.sk-parallel-item:first-child::after {align-self: flex-end;width: 50%;}#sk-container-id-1 div.sk-parallel-item:last-child::after {align-self: flex-start;width: 50%;}#sk-container-id-1 div.sk-parallel-item:only-child::after {width: 0;}#sk-container-id-1 div.sk-dashed-wrapped {border: 1px dashed gray;margin: 0 0.4em 0.5em 0.4em;box-sizing: border-box;padding-bottom: 0.4em;background-color: white;}#sk-container-id-1 div.sk-label label {font-family: monospace;font-weight: bold;display: inline-block;line-height: 1.2em;}#sk-container-id-1 div.sk-label-container {text-align: center;}#sk-container-id-1 div.sk-container {/* jupyter's `normalize.less` sets `[hidden] { display: none; }` but bootstrap.min.css set `[hidden] { display: none !important; }` so we also need the `!important` here to be able to override the default hidden behavior on the sphinx rendered scikit-learn.org. See: https://github.com/scikit-learn/scikit-learn/issues/21755 */display: inline-block !important;position: relative;}#sk-container-id-1 div.sk-text-repr-fallback {display: none;}</style><div id=\"sk-container-id-1\" class=\"sk-top-container\"><div class=\"sk-text-repr-fallback\"><pre>MultinomialNB()</pre><b>In a Jupyter environment, please rerun this cell to show the HTML representation or trust the notebook. <br />On GitHub, the HTML representation is unable to render, please try loading this page with nbviewer.org.</b></div><div class=\"sk-container\" hidden><div class=\"sk-item\"><div class=\"sk-estimator sk-toggleable\"><input class=\"sk-toggleable__control sk-hidden--visually\" id=\"sk-estimator-id-1\" type=\"checkbox\" checked><label for=\"sk-estimator-id-1\" class=\"sk-toggleable__label sk-toggleable__label-arrow\">MultinomialNB</label><div class=\"sk-toggleable__content\"><pre>MultinomialNB()</pre></div></div></div></div></div>"
      ],
      "text/plain": [
       "MultinomialNB()"
      ]
     },
     "execution_count": 27,
     "metadata": {},
     "output_type": "execute_result"
    }
   ],
   "source": [
    "# create mnb object\n",
    "mnb = MultinomialNB()\n",
    "\n",
    "mnb.fit(trainX,trainY)"
   ]
  },
  {
   "cell_type": "code",
   "execution_count": 28,
   "metadata": {},
   "outputs": [
    {
     "name": "stdout",
     "output_type": "stream",
     "text": [
      "Training Accuracy : 0.9639583315732112\n",
      "Testing Accuracy : 0.963500699824551\n"
     ]
    }
   ],
   "source": [
    "mnb.score(testX,testY)\n",
    "print('Training Accuracy :',mnb.score(trainX,trainY))\n",
    "print('Testing Accuracy :',mnb.score(testX,testY))"
   ]
  },
  {
   "cell_type": "code",
   "execution_count": 29,
   "metadata": {},
   "outputs": [
    {
     "name": "stdout",
     "output_type": "stream",
     "text": [
      "Training Accuracy : 0.9639583315732112\n",
      "Testing Accuracy : 0.963500699824551\n",
      "\n",
      "CLASSIFICATION REPORT\n",
      "\n",
      "                 precision    recall  f1-score   support\n",
      "\n",
      " Female_comment       0.96      1.00      0.98     70870\n",
      "   Male_comment       0.92      0.93      0.93      6598\n",
      "Neutral_comment       0.99      0.89      0.93     20752\n",
      "   Bots_comment       0.97      0.75      0.84      3234\n",
      "\n",
      "       accuracy                           0.96    101454\n",
      "      macro avg       0.96      0.89      0.92    101454\n",
      "   weighted avg       0.96      0.96      0.96    101454\n",
      "\n",
      "\n",
      "CONFUSION MATRIX\n"
     ]
    },
    {
     "data": {
      "text/plain": [
       "<Axes: >"
      ]
     },
     "execution_count": 29,
     "metadata": {},
     "output_type": "execute_result"
    },
    {
     "data": {
      "image/png": "[encoded data removed]",
      "text/plain": [
       "<Figure size 640x480 with 2 Axes>"
      ]
     },
     "metadata": {},
     "output_type": "display_data"
    }
   ],
   "source": [
    "print('Training Accuracy :',mnb.score(trainX,trainY))\n",
    "print('Testing Accuracy :',mnb.score(testX,testY))\n",
    "con_mat_mnb = pd.DataFrame(confusion_matrix(mnb.predict(testX), testY),\n",
    "            columns = ['Predicted:Female_comment', 'Predicted:Male_comment' , 'Predicted:Neutral_comment', 'Predicted:Bots_comment'],\n",
    "            index = ['Actual:Female_comment', 'Actual:Male_comment' , 'Actual:Neutral_comment', 'Actual:Bots_comment'])\n",
    "\n",
    "\n",
    "print('\\nCLASSIFICATION REPORT\\n')\n",
    "print(classification_report(mnb.predict(testX), testY,\n",
    "                            target_names =['Female_comment','Male_comment', 'Neutral_comment', 'Bots_comment' ]))\n",
    "\n",
    "print('\\nCONFUSION MATRIX')\n",
    "plt.figure()\n",
    "sns.heatmap(con_mat_mnb, annot = True,fmt='d',cmap=\"YlGnBu\")"
   ]
  },
  {
   "cell_type": "code",
   "execution_count": 30,
   "metadata": {},
   "outputs": [],
   "source": [
    "pipeline_mnb = make_pipeline(CountVectorizer(tokenizer = RegexpTokenizer(r'[A-Za-z]+').tokenize,stop_words='english'), MultinomialNB())"
   ]
  },
  {
   "cell_type": "code",
   "execution_count": 31,
   "metadata": {},
   "outputs": [],
   "source": [
    "trainX, testX, trainY, testY = train_test_split(data.caption, data.label)"
   ]
  },
  {
   "cell_type": "code",
   "execution_count": 32,
   "metadata": {},
   "outputs": [
    {
     "data": {
      "text/html": [
       "<style>#sk-container-id-2 {color: black;}#sk-container-id-2 pre{padding: 0;}#sk-container-id-2 div.sk-toggleable {background-color: white;}#sk-container-id-2 label.sk-toggleable__label {cursor: pointer;display: block;width: 100%;margin-bottom: 0;padding: 0.3em;box-sizing: border-box;text-align: center;}#sk-container-id-2 label.sk-toggleable__label-arrow:before {content: \"▸\";float: left;margin-right: 0.25em;color: #696969;}#sk-container-id-2 label.sk-toggleable__label-arrow:hover:before {color: black;}#sk-container-id-2 div.sk-estimator:hover label.sk-toggleable__label-arrow:before {color: black;}#sk-container-id-2 div.sk-toggleable__content {max-height: 0;max-width: 0;overflow: hidden;text-align: left;background-color: #f0f8ff;}#sk-container-id-2 div.sk-toggleable__content pre {margin: 0.2em;color: black;border-radius: 0.25em;background-color: #f0f8ff;}#sk-container-id-2 input.sk-toggleable__control:checked~div.sk-toggleable__content {max-height: 200px;max-width: 100%;overflow: auto;}#sk-container-id-2 input.sk-toggleable__control:checked~label.sk-toggleable__label-arrow:before {content: \"▾\";}#sk-container-id-2 div.sk-estimator input.sk-toggleable__control:checked~label.sk-toggleable__label {background-color: #d4ebff;}#sk-container-id-2 div.sk-label input.sk-toggleable__control:checked~label.sk-toggleable__label {background-color: #d4ebff;}#sk-container-id-2 input.sk-hidden--visually {border: 0;clip: rect(1px 1px 1px 1px);clip: rect(1px, 1px, 1px, 1px);height: 1px;margin: -1px;overflow: hidden;padding: 0;position: absolute;width: 1px;}#sk-container-id-2 div.sk-estimator {font-family: monospace;background-color: #f0f8ff;border: 1px dotted black;border-radius: 0.25em;box-sizing: border-box;margin-bottom: 0.5em;}#sk-container-id-2 div.sk-estimator:hover {background-color: #d4ebff;}#sk-container-id-2 div.sk-parallel-item::after {content: \"\";width: 100%;border-bottom: 1px solid gray;flex-grow: 1;}#sk-container-id-2 div.sk-label:hover label.sk-toggleable__label {background-color: #d4ebff;}#sk-container-id-2 div.sk-serial::before {content: \"\";position: absolute;border-left: 1px solid gray;box-sizing: border-box;top: 0;bottom: 0;left: 50%;z-index: 0;}#sk-container-id-2 div.sk-serial {display: flex;flex-direction: column;align-items: center;background-color: white;padding-right: 0.2em;padding-left: 0.2em;position: relative;}#sk-container-id-2 div.sk-item {position: relative;z-index: 1;}#sk-container-id-2 div.sk-parallel {display: flex;align-items: stretch;justify-content: center;background-color: white;position: relative;}#sk-container-id-2 div.sk-item::before, #sk-container-id-2 div.sk-parallel-item::before {content: \"\";position: absolute;border-left: 1px solid gray;box-sizing: border-box;top: 0;bottom: 0;left: 50%;z-index: -1;}#sk-container-id-2 div.sk-parallel-item {display: flex;flex-direction: column;z-index: 1;position: relative;background-color: white;}#sk-container-id-2 div.sk-parallel-item:first-child::after {align-self: flex-end;width: 50%;}#sk-container-id-2 div.sk-parallel-item:last-child::after {align-self: flex-start;width: 50%;}#sk-container-id-2 div.sk-parallel-item:only-child::after {width: 0;}#sk-container-id-2 div.sk-dashed-wrapped {border: 1px dashed gray;margin: 0 0.4em 0.5em 0.4em;box-sizing: border-box;padding-bottom: 0.4em;background-color: white;}#sk-container-id-2 div.sk-label label {font-family: monospace;font-weight: bold;display: inline-block;line-height: 1.2em;}#sk-container-id-2 div.sk-label-container {text-align: center;}#sk-container-id-2 div.sk-container {/* jupyter's `normalize.less` sets `[hidden] { display: none; }` but bootstrap.min.css set `[hidden] { display: none !important; }` so we also need the `!important` here to be able to override the default hidden behavior on the sphinx rendered scikit-learn.org. See: https://github.com/scikit-learn/scikit-learn/issues/21755 */display: inline-block !important;position: relative;}#sk-container-id-2 div.sk-text-repr-fallback {display: none;}</style><div id=\"sk-container-id-2\" class=\"sk-top-container\"><div class=\"sk-text-repr-fallback\"><pre>Pipeline(steps=[(&#x27;countvectorizer&#x27;,\n",
       "                 CountVectorizer(stop_words=&#x27;english&#x27;,\n",
       "                                 tokenizer=&lt;bound method RegexpTokenizer.tokenize of RegexpTokenizer(pattern=&#x27;[A-Za-z]+&#x27;, gaps=False, discard_empty=True, flags=re.UNICODE|re.MULTILINE|re.DOTALL)&gt;)),\n",
       "                (&#x27;multinomialnb&#x27;, MultinomialNB())])</pre><b>In a Jupyter environment, please rerun this cell to show the HTML representation or trust the notebook. <br />On GitHub, the HTML representation is unable to render, please try loading this page with nbviewer.org.</b></div><div class=\"sk-container\" hidden><div class=\"sk-item sk-dashed-wrapped\"><div class=\"sk-label-container\"><div class=\"sk-label sk-toggleable\"><input class=\"sk-toggleable__control sk-hidden--visually\" id=\"sk-estimator-id-2\" type=\"checkbox\" ><label for=\"sk-estimator-id-2\" class=\"sk-toggleable__label sk-toggleable__label-arrow\">Pipeline</label><div class=\"sk-toggleable__content\"><pre>Pipeline(steps=[(&#x27;countvectorizer&#x27;,\n",
       "                 CountVectorizer(stop_words=&#x27;english&#x27;,\n",
       "                                 tokenizer=&lt;bound method RegexpTokenizer.tokenize of RegexpTokenizer(pattern=&#x27;[A-Za-z]+&#x27;, gaps=False, discard_empty=True, flags=re.UNICODE|re.MULTILINE|re.DOTALL)&gt;)),\n",
       "                (&#x27;multinomialnb&#x27;, MultinomialNB())])</pre></div></div></div><div class=\"sk-serial\"><div class=\"sk-item\"><div class=\"sk-estimator sk-toggleable\"><input class=\"sk-toggleable__control sk-hidden--visually\" id=\"sk-estimator-id-3\" type=\"checkbox\" ><label for=\"sk-estimator-id-3\" class=\"sk-toggleable__label sk-toggleable__label-arrow\">CountVectorizer</label><div class=\"sk-toggleable__content\"><pre>CountVectorizer(stop_words=&#x27;english&#x27;,\n",
       "                tokenizer=&lt;bound method RegexpTokenizer.tokenize of RegexpTokenizer(pattern=&#x27;[A-Za-z]+&#x27;, gaps=False, discard_empty=True, flags=re.UNICODE|re.MULTILINE|re.DOTALL)&gt;)</pre></div></div></div><div class=\"sk-item\"><div class=\"sk-estimator sk-toggleable\"><input class=\"sk-toggleable__control sk-hidden--visually\" id=\"sk-estimator-id-4\" type=\"checkbox\" ><label for=\"sk-estimator-id-4\" class=\"sk-toggleable__label sk-toggleable__label-arrow\">MultinomialNB</label><div class=\"sk-toggleable__content\"><pre>MultinomialNB()</pre></div></div></div></div></div></div></div>"
      ],
      "text/plain": [
       "Pipeline(steps=[('countvectorizer',\n",
       "                 CountVectorizer(stop_words='english',\n",
       "                                 tokenizer=<bound method RegexpTokenizer.tokenize of RegexpTokenizer(pattern='[A-Za-z]+', gaps=False, discard_empty=True, flags=re.UNICODE|re.MULTILINE|re.DOTALL)>)),\n",
       "                ('multinomialnb', MultinomialNB())])"
      ]
     },
     "execution_count": 32,
     "metadata": {},
     "output_type": "execute_result"
    }
   ],
   "source": [
    "pipeline_mnb.fit(trainX,trainY)"
   ]
  },
  {
   "cell_type": "code",
   "execution_count": 33,
   "metadata": {},
   "outputs": [
    {
     "data": {
      "text/plain": [
       "0.9620911940386776"
      ]
     },
     "execution_count": 33,
     "metadata": {},
     "output_type": "execute_result"
    }
   ],
   "source": [
    "pipeline_mnb.score(testX,testY) "
   ]
  },
  {
   "cell_type": "code",
   "execution_count": 34,
   "metadata": {},
   "outputs": [
    {
     "name": "stdout",
     "output_type": "stream",
     "text": [
      "Training Accuracy : 0.9634869004672069\n",
      "Testing Accuracy : 0.9620911940386776\n",
      "\n",
      "CLASSIFICATION REPORT\n",
      "\n",
      "                 precision    recall  f1-score   support\n",
      "\n",
      " Female_comment       0.96      1.00      0.98     58864\n",
      "   Male_comment       0.93      0.92      0.92      5616\n",
      "Neutral_comment       0.97      0.89      0.93     17302\n",
      "   Bots_comment       0.98      0.73      0.84      2763\n",
      "\n",
      "       accuracy                           0.96     84545\n",
      "      macro avg       0.96      0.88      0.92     84545\n",
      "   weighted avg       0.96      0.96      0.96     84545\n",
      "\n",
      "\n",
      "CONFUSION MATRIX\n"
     ]
    },
    {
     "data": {
      "text/plain": [
       "<Axes: >"
      ]
     },
     "execution_count": 34,
     "metadata": {},
     "output_type": "execute_result"
    },
    {
     "data": {
      "image/png": "[encoded data removed]",
      "text/plain": [
       "<Figure size 640x480 with 2 Axes>"
      ]
     },
     "metadata": {},
     "output_type": "display_data"
    }
   ],
   "source": [
    "print('Training Accuracy :',pipeline_mnb.score(trainX,trainY))\n",
    "print('Testing Accuracy :',pipeline_mnb.score(testX,testY))\n",
    "con_mat = pd.DataFrame(confusion_matrix(pipeline_mnb.predict(testX), testY),\n",
    "            columns = ['Predicted:Female_comment', 'Predicted:Male_comment' , 'Predicted:Neutral_comment', 'Predicted:Bots_comment'],\n",
    "            index = ['Actual:Female_comment', 'Actual:Male_comment' , 'Actual:Neutral_comment', 'Actual:Bots_comment'])\n",
    "\n",
    "\n",
    "print('\\nCLASSIFICATION REPORT\\n')\n",
    "print(classification_report(pipeline_mnb.predict(testX), testY,\n",
    "                            target_names =['Female_comment','Male_comment', 'Neutral_comment', 'Bots_comment' ]))\n",
    "\n",
    "print('\\nCONFUSION MATRIX')\n",
    "plt.figure()\n",
    "sns.heatmap(con_mat, annot = True,fmt='d',cmap=\"YlGnBu\")"
   ]
  }
 ],
 "metadata": {
  "kernelspec": {
   "display_name": "Python 3",
   "language": "python",
   "name": "python3"
  },
  "language_info": {
   "codemirror_mode": {
    "name": "ipython",
    "version": 3
   },
   "file_extension": ".py",
   "mimetype": "text/x-python",
   "name": "python",
   "nbconvert_exporter": "python",
   "pygments_lexer": "ipython3",
   "version": "3.10.8"
  },
  "orig_nbformat": 4
 },
 "nbformat": 4,
 "nbformat_minor": 2
}
